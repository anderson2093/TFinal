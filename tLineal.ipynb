{
 "cells": [
  {
   "cell_type": "code",
   "execution_count": null,
   "metadata": {},
   "outputs": [],
   "source": [
    "from __future__ import division\n",
    "import sympy as s\n",
    "\n",
    "num = int(input('Ingresar numero de variables: '))\n",
    "if num==5:\n",
    "    x1, x2, x3, x4, x5 = s.symbols('x1, x2, x3, x4, x5')\n",
    "    matriz = []\n",
    "    convert = int(input('Ingresar numero de R: '))\n",
    "    for i in range(convert):\n",
    "        matriz.append([])\n",
    "        for j in range(6):\n",
    "            valor = int(input('Ingresar valor: '))\n",
    "            matriz[i].append(valor)\n",
    "            \n",
    "    A = s.Matrix(matriz)\n",
    "    Nucleo = s.solve_linear_system(A,x1,x2,x3,x4,x5)\n",
    "if num==4:\n",
    "    x1,x2,x3,x4 = s.symbols('x1,x2,x3,x4')\n",
    "    matriz = []\n",
    "    convert = int(input('Ingresar numero de R: '))\n",
    "    for i in range(convert):\n",
    "        matriz.append([])\n",
    "        for j in range(5):\n",
    "            valor = int(input('Ingresar valor: '))\n",
    "            matriz[i].append(valor)\n",
    "            \n",
    "    A = s.Matrix(matriz)\n",
    "    Nucleo = s.solve_linear_system(A,x1,x2,x3,x4)\n",
    "\n",
    "if num==2:\n",
    "    x1,x2 = s.symbols('x1,x2')\n",
    "    matriz = []\n",
    "    convert = int(input('Ingresar numero de R: '))\n",
    "    for i in range(convert):\n",
    "        matriz.append([])\n",
    "        for j in range(3):\n",
    "            valor = int(input('Ingresar valor: '))\n",
    "            matriz[i].append(valor)\n",
    "            \n",
    "    A = s.Matrix(matriz)\n",
    "    Nucleo = s.solve_linear_system(A,x1,x2)\n",
    "# la imagen es \n",
    "s.init_session()\n",
    "s.init_printing()\n"
   ]
  }
 ],
 "metadata": {
  "kernelspec": {
   "display_name": "Python 3",
   "language": "python",
   "name": "python3"
  },
  "language_info": {
   "codemirror_mode": {
    "name": "ipython",
    "version": 3
   },
   "file_extension": ".py",
   "mimetype": "text/x-python",
   "name": "python",
   "nbconvert_exporter": "python",
   "pygments_lexer": "ipython3",
   "version": "3.6.7"
  }
 },
 "nbformat": 4,
 "nbformat_minor": 2
}
