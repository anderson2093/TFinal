{
 "cells": [
  {
   "cell_type": "code",
   "execution_count": null,
   "metadata": {},
   "outputs": [],
   "source": [
    "!pip install sympy"
   ]
  },
  {
   "cell_type": "code",
   "execution_count": 1,
   "metadata": {},
   "outputs": [
    {
     "name": "stdin",
     "output_type": "stream",
     "text": [
      "Ingresar numero de variables:  4\n",
      "Digite o valor de [0,0]: 2\n",
      "Digite o valor de [0,1]: 5\n",
      "Digite o valor de [0,2]: 7\n",
      "Digite o valor de [0,3]: 6\n",
      "Digite o valor de [1,0]: 4\n",
      "Digite o valor de [1,1]: 2\n",
      "Digite o valor de [1,2]: 3\n",
      "Digite o valor de [1,3]: 4\n",
      "Digite o valor de [2,0]: 5\n",
      "Digite o valor de [2,1]: 7\n",
      "Digite o valor de [2,2]: 9\n",
      "Digite o valor de [2,3]: 5\n",
      "Digite o valor de [3,0]: 3\n",
      "Digite o valor de [3,1]: 1\n",
      "Digite o valor de [3,2]: 5\n",
      "Digite o valor de [3,3]: 0\n"
     ]
    },
    {
     "name": "stdout",
     "output_type": "stream",
     "text": [
      "IPython console for SymPy 1.0 (Python 3.6.7-64-bit) (ground types: python)\n",
      "\n",
      "These commands were executed:\n",
      ">>> from __future__ import division\n",
      ">>> from sympy import *\n",
      ">>> x, y, z, t = symbols('x y z t')\n",
      ">>> k, m, n = symbols('k m n', integer=True)\n",
      ">>> f, g, h = symbols('f g h', cls=Function)\n",
      ">>> init_printing()\n",
      "\n",
      "Documentation can be found at http://docs.sympy.org/1.0/\n"
     ]
    }
   ],
   "source": [
    "from __future__ import division\n",
    "import sympy as s\n",
    "\n",
    "num = int(input('Ingresar numero de variables: '))\n",
    "if num==4:\n",
    "    x1,x2,x3,x4 = s.symbols('x1,x2,x3,x4')\n",
    "    matriz = []\n",
    "    for i in range(num):\n",
    "        matriz.append([])\n",
    "        for j in range(4):\n",
    "            valor = int(input('Digite o valor de [' + str(i) + ',' + str(j) + ']:'))\n",
    "            matriz[i].append(valor)\n",
    "            \n",
    "    matrizA=[]\n",
    "    for i in range(num):\n",
    "        matrizA.append([])\n",
    "        for j in range(5):\n",
    "            if j!=4:\n",
    "                matrizA[i].append(matriz[i][j])\n",
    "            else:\n",
    "                matrizA[i].append(0)\n",
    "    \n",
    "    matrizAum = []\n",
    "    for i in range(num):\n",
    "        matrizAum.append([])\n",
    "        for j in range(num*2):\n",
    "            if j>num-1 and i==(j-num):\n",
    "                matrizAum[i].append(1)\n",
    "            if j>num-1 and i!=(j-num):\n",
    "                matrizAum[i].append(0)\n",
    "            if j<num :\n",
    "                matrizAum[i].append(matriz[i][j])\n",
    "    Matriz = s.Matrix(matriz)\n",
    "    Ampliada = s.Matrix(matrizA)\n",
    "    Nucleo = s.solve_linear_system(Ampliada,x1,x2,x3,x4)\n",
    "    MatrizAum = s.Matrix(matrizAum) \n",
    "    Aumentada = MatrizAum.rref()\n",
    "    #Tipo = type(Nucleo[x1])\n",
    "    #T=Nucleo.items()\n",
    "    #k= Nucleo.keys()\n",
    "    x1 = Nucleo.get(x1)\n",
    "    x2 = Nucleo.get(x2)\n",
    "    x3 = Nucleo.get(x3)\n",
    "    x4 = Nucleo.get(x4)\n",
    "    kernel = \"Ker(T) = {(\"+str(x1)+\";\"+str(x2)+\";\"+str(x3)+\";\"+str(x4)+\")}\"\n",
    "    imagen1=Aumentada[0]\n",
    "    M1=[]\n",
    "    k=0\n",
    "    imagen=\"\"\n",
    "    for i in range(num):\n",
    "        M1.append([])\n",
    "        for j in range(num):\n",
    "            if k==4 or k==12 or k==20:\n",
    "                k=k+4\n",
    "            M1[i].append(Aumentada[0][k])\n",
    "            imagen = imagen+ str(k)+\" \"\n",
    "            k=k+1\n",
    "            \n",
    "    M2=[]\n",
    "    r=4\n",
    "    img2=\"\"\n",
    "    for i in range(num):\n",
    "        M2.append([])\n",
    "        for j in range(num):\n",
    "            if r==8 or r==16 or r==24:\n",
    "                r=r+4\n",
    "            M2[i].append(Aumentada[0][r])\n",
    "            img2 = img2+ str(r)+\" \"\n",
    "            r=r+1\n",
    "    \n",
    "    cont=0\n",
    "    Arr=[]\n",
    "    for i in range(len(M1)):\n",
    "        for j in range(len(M1)):\n",
    "            if M1[i][j]==1:\n",
    "                cont=cont+1\n",
    "        Arr.append(cont)\n",
    "        cont=0    \n",
    "        \n",
    "if num==3:\n",
    "    x1,x2,x3 = s.symbols('x1,x2,x3')\n",
    "    a,b,c = s.symbols('a,b,c')\n",
    "    matriz = []\n",
    "    for i in range(num):\n",
    "        matriz.append([])\n",
    "        for j in range(3):\n",
    "            valor = int(input('Digite o valor de [' + str(i) + ',' + str(j) + ']:'))\n",
    "            matriz[i].append(valor)\n",
    "    matrizA=[]\n",
    "    for i in range(num):\n",
    "        matrizA.append([])\n",
    "        for j in range(4):\n",
    "            if j!=3:\n",
    "                matrizA[i].append(matriz[i][j])\n",
    "            else:\n",
    "                matrizA[i].append(0)\n",
    "    matrizAum = []\n",
    "    for i in range(num):\n",
    "        matrizAum.append([])\n",
    "        for j in range(num*2):\n",
    "            if j>num-1 and i==(j-num):\n",
    "                matrizAum[i].append(1)\n",
    "            if j>num-1 and i!=(j-num):\n",
    "                matrizAum[i].append(0)\n",
    "            if j<num :\n",
    "                matrizAum[i].append(matriz[i][j])\n",
    "                \n",
    "    Matriz = s.Matrix(matriz)\n",
    "    Ampliada = s.Matrix(matrizA)\n",
    "    Nucleo = s.solve_linear_system(Ampliada,x1,x2,x3)\n",
    "    MatrizAum = s.Matrix(matrizAum) \n",
    "    Aumentada = MatrizAum.rref()\n",
    "    x1 = Nucleo.get(x1)\n",
    "    x2 = Nucleo.get(x2)\n",
    "    x3 = Nucleo.get(x3)\n",
    "    kernel = \"Ker(T) = {(\"+str(x1)+\";\"+str(x2)+\";\"+str(x3)+\";\")}\"\n",
    "    M1=[]\n",
    "    k=0\n",
    "    imagen=\"\"\n",
    "    for i in range(num):\n",
    "        M1.append([])\n",
    "        for j in range(num):\n",
    "            if k==3 or k==9:\n",
    "                k=k+3\n",
    "            M1[i].append(Aumentada[0][k])\n",
    "            imagen = imagen+ str(k)+\" \"\n",
    "            k=k+1\n",
    "            \n",
    "    M2=[]\n",
    "    r=3\n",
    "    img2=\"\"\n",
    "    for i in range(num):\n",
    "        M2.append([])\n",
    "        for j in range(num):\n",
    "            if r==6 or r==12:\n",
    "                r=r+3\n",
    "            M2[i].append(Aumentada[0][r])\n",
    "            img2 = img2+ str(r)+\" \"\n",
    "            r=r+1\n",
    "    \n",
    "    cont=0\n",
    "    Arr=[]\n",
    "    for i in range(len(M1)):\n",
    "        for j in range(len(M1)):\n",
    "            if M1[i][j]==1:\n",
    "                cont=cont+1\n",
    "        Arr.append(cont)\n",
    "        cont=0    \n",
    "s.init_session()\n",
    "s.init_printing()\n"
   ]
  },
  {
   "cell_type": "code",
   "execution_count": 3,
   "metadata": {},
   "outputs": [
    {
     "data": {
      "image/png": "[encoded data removed]",
      "text/latex": [
       "$$\\left \\{ x_{1} : 0, \\quad x_{2} : 0, \\quad x_{3} : 0, \\quad x_{4} : 0\\right \\}$$"
      ],
      "text/plain": [
       "{x₁: 0, x₂: 0, x₃: 0, x₄: 0}"
      ]
     },
     "execution_count": 3,
     "metadata": {},
     "output_type": "execute_result"
    }
   ],
   "source": [
    "Nucleo"
   ]
  },
  {
   "cell_type": "code",
   "execution_count": 4,
   "metadata": {},
   "outputs": [
    {
     "name": "stdout",
     "output_type": "stream",
     "text": [
      "Ker(T) = {(0;0;0;0)}\n"
     ]
    }
   ],
   "source": [
    "print(kernel)"
   ]
  },
  {
   "cell_type": "code",
   "execution_count": 5,
   "metadata": {},
   "outputs": [
    {
     "data": {
      "text/latex": [
       "$$\\left ( \\left[\\begin{matrix}1 & 0 & 0 & 0 & - \\frac{23}{95} & \\frac{22}{95} & \\frac{2}{19} & \\frac{1}{95}\\\\0 & 1 & 0 & 0 & - \\frac{21}{95} & - \\frac{43}{285} & \\frac{22}{57} & - \\frac{28}{95}\\\\0 & 0 & 1 & 0 & \\frac{18}{95} & - \\frac{31}{285} & - \\frac{8}{57} & \\frac{24}{95}\\\\0 & 0 & 0 & 1 & \\frac{4}{19} & \\frac{10}{57} & - \\frac{11}{57} & - \\frac{1}{19}\\end{matrix}\\right], \\quad \\left [ 0, \\quad 1, \\quad 2, \\quad 3\\right ]\\right )$$"
      ],
      "text/plain": [
       "⎛⎡            -23    22               ⎤              ⎞\n",
       "⎜⎢1  0  0  0  ────   ──   2/19   1/95 ⎥, [0, 1, 2, 3]⎟\n",
       "⎜⎢             95    95               ⎥              ⎟\n",
       "⎜⎢                                    ⎥              ⎟\n",
       "⎜⎢            -21   -43    22    -28  ⎥              ⎟\n",
       "⎜⎢0  1  0  0  ────  ────   ──    ──── ⎥              ⎟\n",
       "⎜⎢             95   285    57     95  ⎥              ⎟\n",
       "⎜⎢                                    ⎥              ⎟\n",
       "⎜⎢             18   -31           24  ⎥              ⎟\n",
       "⎜⎢0  0  1  0   ──   ────  -8/57   ──  ⎥              ⎟\n",
       "⎜⎢             95   285           95  ⎥              ⎟\n",
       "⎜⎢                                    ⎥              ⎟\n",
       "⎜⎢                   10   -11         ⎥              ⎟\n",
       "⎜⎢0  0  0  1  4/19   ──   ────   -1/19⎥              ⎟\n",
       "⎝⎣                   57    57         ⎦              ⎠"
      ]
     },
     "execution_count": 5,
     "metadata": {},
     "output_type": "execute_result"
    }
   ],
   "source": [
    "Aumentada"
   ]
  },
  {
   "cell_type": "code",
   "execution_count": null,
   "metadata": {},
   "outputs": [],
   "source": []
  }
 ],
 "metadata": {
  "kernelspec": {
   "display_name": "Python 3",
   "language": "python",
   "name": "python3"
  },
  "language_info": {
   "codemirror_mode": {
    "name": "ipython",
    "version": 3
   },
   "file_extension": ".py",
   "mimetype": "text/x-python",
   "name": "python",
   "nbconvert_exporter": "python",
   "pygments_lexer": "ipython3",
   "version": "3.6.7"
  }
 },
 "nbformat": 4,
 "nbformat_minor": 2
}
