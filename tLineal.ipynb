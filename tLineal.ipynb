{
 "cells": [
  {
   "cell_type": "code",
   "execution_count": 1,
   "metadata": {},
   "outputs": [
    {
     "name": "stdin",
     "output_type": "stream",
     "text": [
      "Ingresar numero de variables:  4\n",
      "Ingresar numero de R:  3\n",
      "Ingresar valor:  2\n",
      "Ingresar valor:  3\n",
      "Ingresar valor:  0\n",
      "Ingresar valor:  1\n",
      "Ingresar valor:  0\n",
      "Ingresar valor:  6\n",
      "Ingresar valor:  3\n",
      "Ingresar valor:  4\n",
      "Ingresar valor:  5\n",
      "Ingresar valor:  0\n",
      "Ingresar valor:  0\n",
      "Ingresar valor:  0\n",
      "Ingresar valor:  0\n",
      "Ingresar valor:  3\n",
      "Ingresar valor:  0\n"
     ]
    },
    {
     "name": "stdout",
     "output_type": "stream",
     "text": [
      "IPython console for SymPy 1.0 (Python 3.6.7-64-bit) (ground types: python)\n",
      "\n",
      "These commands were executed:\n",
      ">>> from __future__ import division\n",
      ">>> from sympy import *\n",
      ">>> x, y, z, t = symbols('x y z t')\n",
      ">>> k, m, n = symbols('k m n', integer=True)\n",
      ">>> f, g, h = symbols('f g h', cls=Function)\n",
      ">>> init_printing()\n",
      "\n",
      "Documentation can be found at http://docs.sympy.org/1.0/\n"
     ]
    }
   ],
   "source": [
    "from __future__ import division\n",
    "import sympy as s\n",
    "\n",
    "num = int(input('Ingresar numero de variables: '))\n",
    "if num==5:\n",
    "    x1, x2, x3, x4, x5 = s.symbols('x1, x2, x3, x4, x5')\n",
    "    matriz = []\n",
    "    convert = int(input('Ingresar numero de R: '))\n",
    "    for i in range(convert):\n",
    "        matriz.append([])\n",
    "        for j in range(6):\n",
    "            valor = int(input('Ingresar valor: '))\n",
    "            matriz[i].append(valor)\n",
    "            \n",
    "    A = s.Matrix(matriz)\n",
    "    Nucleo = s.solve_linear_system(A,x1,x2,x3,x4,x5)\n",
    "if num==4:\n",
    "    x1,x2,x3,x4 = s.symbols('x1,x2,x3,x4')\n",
    "    matriz = []\n",
    "    convert = int(input('Ingresar numero de R: '))\n",
    "    for i in range(convert):\n",
    "        matriz.append([])\n",
    "        for j in range(5):\n",
    "            valor = int(input('Ingresar valor: '))\n",
    "            matriz[i].append(valor)\n",
    "            \n",
    "    A = s.Matrix(matriz)\n",
    "    Nucleo = s.solve_linear_system(A,x1,x2,x3,x4)\n",
    "\n",
    "if num==2:\n",
    "    x1,x2 = s.symbols('x1,x2')\n",
    "    matriz = []\n",
    "    convert = int(input('Ingresar numero de R: '))\n",
    "    for i in range(convert):\n",
    "        matriz.append([])\n",
    "        for j in range(3):\n",
    "            valor = int(input('Ingresar valor: '))\n",
    "            matriz[i].append(valor)\n",
    "            \n",
    "    A = s.Matrix(matriz)\n",
    "    Nucleo = s.solve_linear_system(A,x1,x2)\n",
    "# la imagen es \n",
    "s.init_session()\n",
    "s.init_printing()\n"
   ]
  },
  {
   "cell_type": "code",
   "execution_count": 2,
   "metadata": {},
   "outputs": [
    {
     "data": {
      "text/latex": [
       "$$\\left[\\begin{matrix}2 & 3 & 0 & 1 & 0\\\\6 & 3 & 4 & 5 & 0\\\\0 & 0 & 0 & 3 & 0\\end{matrix}\\right]$$"
      ],
      "text/plain": [
       "⎡2  3  0  1  0⎤\n",
       "⎢             ⎥\n",
       "⎢6  3  4  5  0⎥\n",
       "⎢             ⎥\n",
       "⎣0  0  0  3  0⎦"
      ]
     },
     "execution_count": 2,
     "metadata": {},
     "output_type": "execute_result"
    }
   ],
   "source": [
    "A"
   ]
  },
  {
   "cell_type": "code",
   "execution_count": 3,
   "metadata": {},
   "outputs": [
    {
     "data": {
      "image/png": "[encoded data removed]",
      "text/latex": [
       "$$\\left \\{ x_{1} : - x_{3}, \\quad x_{2} : \\frac{2 x_{3}}{3}, \\quad x_{4} : 0\\right \\}$$"
      ],
      "text/plain": [
       "⎧             2⋅x₃       ⎫\n",
       "⎨x₁: -x₃, x₂: ────, x₄: 0⎬\n",
       "⎩              3         ⎭"
      ]
     },
     "execution_count": 3,
     "metadata": {},
     "output_type": "execute_result"
    }
   ],
   "source": [
    "Nucleo"
   ]
  },
  {
   "cell_type": "code",
   "execution_count": null,
   "metadata": {},
   "outputs": [],
   "source": []
  }
 ],
 "metadata": {
  "kernelspec": {
   "display_name": "Python 3",
   "language": "python",
   "name": "python3"
  },
  "language_info": {
   "codemirror_mode": {
    "name": "ipython",
    "version": 3
   },
   "file_extension": ".py",
   "mimetype": "text/x-python",
   "name": "python",
   "nbconvert_exporter": "python",
   "pygments_lexer": "ipython3",
   "version": "3.6.7"
  }
 },
 "nbformat": 4,
 "nbformat_minor": 2
}
