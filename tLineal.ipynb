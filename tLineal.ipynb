{
 "cells": [
  {
   "cell_type": "code",
   "execution_count": null,
   "metadata": {},
   "outputs": [],
   "source": [
    "!pip install sympy"
   ]
  },
  {
   "cell_type": "markdown",
   "metadata": {},
   "source": [
    "# Trabajo Final Algebra Lineal"
   ]
  },
  {
   "cell_type": "code",
   "execution_count": null,
   "metadata": {},
   "outputs": [],
   "source": [
    "from __future__ import division\n",
    "import sympy as s\n",
    "\n",
    "num = int(input('Ingresar numero de variables: '))\n",
    "if num==4:\n",
    "    x1,x2,x3,x4 = s.symbols('x1,x2,x3,x4')\n",
    "    matriz = []\n",
    "    for i in range(num):\n",
    "        matriz.append([])\n",
    "        for j in range(4):\n",
    "            valor = int(input('Digite o valor de [' + str(i) + ',' + str(j) + ']:'))\n",
    "            matriz[i].append(valor)\n",
    "            \n",
    "    matrizA=[]\n",
    "    for i in range(num):\n",
    "        matrizA.append([])\n",
    "        for j in range(5):\n",
    "            if j!=4:\n",
    "                matrizA[i].append(matriz[i][j])\n",
    "            else:\n",
    "                matrizA[i].append(0)\n",
    "    \n",
    "    matrizAum = []\n",
    "    for i in range(num):\n",
    "        matrizAum.append([])\n",
    "        for j in range(num*2):\n",
    "            if j>num-1 and i==(j-num):\n",
    "                matrizAum[i].append(1)\n",
    "            if j>num-1 and i!=(j-num):\n",
    "                matrizAum[i].append(0)\n",
    "            if j<num :\n",
    "                matrizAum[i].append(matriz[i][j])\n",
    "    Matriz = s.Matrix(matriz)\n",
    "    Ampliada = s.Matrix(matrizA)\n",
    "    Nucleo = s.solve_linear_system(Ampliada,x1,x2,x3,x4)\n",
    "\n",
    "if num==3:\n",
    "    x1,x2,x3 = s.symbols('x1,x2,x3')\n",
    "    a,b,c = s.symbols('a,b,c')\n",
    "    matriz = []\n",
    "    for i in range(num):\n",
    "        matriz.append([])\n",
    "        for j in range(3):\n",
    "            valor = int(input('Digite o valor de [' + str(i) + ',' + str(j) + ']:'))\n",
    "            matriz[i].append(valor)\n",
    "    matrizA=[]\n",
    "    for i in range(num):\n",
    "        matrizA.append([])\n",
    "        for j in range(4):\n",
    "            if j!=3:\n",
    "                matrizA[i].append(matriz[i][j])\n",
    "            else:\n",
    "                matrizA[i].append(0)\n",
    "    matrizAum = []\n",
    "    for i in range(num):\n",
    "        matrizAum.append([])\n",
    "        for j in range(num*2):\n",
    "            if j>num-1 and i==(j-num):\n",
    "                matrizAum[i].append(1)\n",
    "            if j>num-1 and i!=(j-num):\n",
    "                matrizAum[i].append(0)\n",
    "            if j<num :\n",
    "                matrizAum[i].append(matriz[i][j])\n",
    "                \n",
    "    Matriz = s.Matrix(matriz)\n",
    "    Ampliada = s.Matrix(matrizA)\n",
    "    Nucleo = s.solve_linear_system(Ampliada,x1,x2,x3)\n",
    "    MatrizAum = s.Matrix(matrizAum) \n",
    "    Aumentada = MatrizAum.rref()\n",
    "    \n",
    "s.init_session()\n",
    "s.init_printing()\n"
   ]
  }
 ],
 "metadata": {
  "kernelspec": {
   "display_name": "Python 3",
   "language": "python",
   "name": "python3"
  },
  "language_info": {
   "codemirror_mode": {
    "name": "ipython",
    "version": 3
   },
   "file_extension": ".py",
   "mimetype": "text/x-python",
   "name": "python",
   "nbconvert_exporter": "python",
   "pygments_lexer": "ipython3",
   "version": "3.6.7"
  }
 },
 "nbformat": 4,
 "nbformat_minor": 2
}
